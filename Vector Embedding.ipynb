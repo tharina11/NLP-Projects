{
 "cells": [
  {
   "cell_type": "markdown",
   "id": "d6ee96c3",
   "metadata": {},
   "source": [
    "### Vector Embedding\n",
    "\n",
    "Vector embedding is a technique used to represent information in a format that can be easily processed by algorithms, especially by deep learning models. This information can be text, audio, video, and pictures. Vector embedding are used in wide range of ML applications such as reccommendation systems and Anomaly detection. \n"
   ]
  },
  {
   "cell_type": "markdown",
   "id": "1b5dc997",
   "metadata": {},
   "source": [
    "#### Text Embedding\n",
    "\n",
    "Text embedding looks at the semantic (linguistics and logic concerned with the meaning) of text. It captures the meaning of words. In text embedding, each word in a sentence is converted to a long arrays of numbers (vectors). The vector representation of a word depends on the algorithm it generated (eg: Word2Vec, OpenAI). We can embed words, sentences, documents or other sets of words.\n",
    "\n",
    "We can find similar words to a particular word from a last corpus of words by comparing the text embeddings of words. The similarity of vectors is calculated using cosine similarity."
   ]
  },
  {
   "cell_type": "markdown",
   "id": "78879c9f",
   "metadata": {},
   "source": [
    "#### Reference:\n",
    "[Vector Embedding Tutorial - FreeCodeCamp](https://www.youtube.com/watch?v=yfHHvmaMkcA&t=1633s)"
   ]
  },
  {
   "cell_type": "code",
   "execution_count": null,
   "id": "b97bcbd9",
   "metadata": {},
   "outputs": [],
   "source": []
  }
 ],
 "metadata": {
  "kernelspec": {
   "display_name": "Python 3 (ipykernel)",
   "language": "python",
   "name": "python3"
  },
  "language_info": {
   "codemirror_mode": {
    "name": "ipython",
    "version": 3
   },
   "file_extension": ".py",
   "mimetype": "text/x-python",
   "name": "python",
   "nbconvert_exporter": "python",
   "pygments_lexer": "ipython3",
   "version": "3.10.11"
  }
 },
 "nbformat": 4,
 "nbformat_minor": 5
}
